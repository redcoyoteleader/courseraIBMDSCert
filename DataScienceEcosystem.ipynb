{
 "cells": [
  {
   "cell_type": "markdown",
   "id": "5bc2134c-bfb8-48a5-a5f2-f9ab59f0d484",
   "metadata": {},
   "source": [
    "# Data Science Tools and Ecosystem"
   ]
  },
  {
   "cell_type": "markdown",
   "id": "244e7bc7-ce3f-4dca-b46b-e177bef39b4d",
   "metadata": {},
   "source": [
    "In this notebook, Data Science Tools and Ecosystem are summarized."
   ]
  },
  {
   "cell_type": "markdown",
   "id": "97099fe3-9063-41f5-a06a-7accef18f5e3",
   "metadata": {},
   "source": [
    "**Objectives**\n",
    "1. List popular languages for Data Science\n",
    "2. List commonly used libraries by Data Scientists\n",
    "3. List popular Data Science Tols\n",
    "4. Examples of Evaluating Arithmetic Expressions in Python"
   ]
  },
  {
   "cell_type": "markdown",
   "id": "6cb01b6a-4aae-49c4-b2c0-30f249a9f9a5",
   "metadata": {},
   "source": [
    "Some of the popular languages that Data Scientists use are:\n",
    "1. Python\n",
    "2. R\n",
    "3. SQL"
   ]
  },
  {
   "cell_type": "markdown",
   "id": "644b99f5-1e9c-4e8d-b637-86967f874347",
   "metadata": {},
   "source": [
    "Some of the commonly used libraries used by Data Scientists include:\n",
    "1. Pandas\n",
    "2. NumPy\n",
    "3. matplotlib"
   ]
  },
  {
   "cell_type": "markdown",
   "id": "f797f0e7-9d22-49e4-8b36-07000b1f583d",
   "metadata": {},
   "source": [
    "| Data Science Tools     |\n",
    "|------------------------|\n",
    "| Jupyter Notebook       |\n",
    "| RStudio                |\n",
    "| Apache Zeppelin        |"
   ]
  },
  {
   "cell_type": "markdown",
   "id": "0f9e6517-85ca-498a-8b9d-e61b451cc0f9",
   "metadata": {},
   "source": [
    "### Below are a few examples of evaluating arithmetic expressions in Python"
   ]
  },
  {
   "cell_type": "code",
   "execution_count": 3,
   "id": "c2ba7f7a-d129-4778-8967-6ac60a6b32d7",
   "metadata": {},
   "outputs": [
    {
     "data": {
      "text/plain": [
       "17"
      ]
     },
     "execution_count": 3,
     "metadata": {},
     "output_type": "execute_result"
    }
   ],
   "source": [
    "(3*4)+5\n",
    "# This a simple arithmetic expression to mutiply then add integers"
   ]
  },
  {
   "cell_type": "code",
   "execution_count": 4,
   "id": "d54d41a2-b06b-4505-adef-a99de652accc",
   "metadata": {},
   "outputs": [
    {
     "name": "stdout",
     "output_type": "stream",
     "text": [
      "3.3333333333333335\n"
     ]
    }
   ],
   "source": [
    "# This will convert 200 minutes to hours by diving by 60\n",
    "hours = 200/60\n",
    "print(hours)"
   ]
  },
  {
   "cell_type": "markdown",
   "id": "57031742-4d46-4b7c-9d93-ff648a2d04b3",
   "metadata": {},
   "source": [
    "## Author\n",
    "Ryan ORear"
   ]
  },
  {
   "cell_type": "code",
   "execution_count": null,
   "id": "4b0e00ad-342e-49c9-ad70-55ebbeda5db9",
   "metadata": {},
   "outputs": [],
   "source": []
  }
 ],
 "metadata": {
  "kernelspec": {
   "display_name": "Python 3 (ipykernel)",
   "language": "python",
   "name": "python3"
  },
  "language_info": {
   "codemirror_mode": {
    "name": "ipython",
    "version": 3
   },
   "file_extension": ".py",
   "mimetype": "text/x-python",
   "name": "python",
   "nbconvert_exporter": "python",
   "pygments_lexer": "ipython3",
   "version": "3.12.11"
  }
 },
 "nbformat": 4,
 "nbformat_minor": 5
}
